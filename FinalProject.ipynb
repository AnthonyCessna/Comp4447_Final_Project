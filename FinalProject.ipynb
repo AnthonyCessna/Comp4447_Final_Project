{
 "cells": [
  {
   "cell_type": "markdown",
   "id": "cb10318f-0317-4213-9d01-b16d4196e8a8",
   "metadata": {},
   "source": [
    "# Sentiment Analysis of Reddit Data"
   ]
  },
  {
   "cell_type": "markdown",
   "id": "0c942d4f-0ad5-4193-a66b-74b4b515efb2",
   "metadata": {},
   "source": [
    "### Does mood fluctuate throughout the day?\n",
    "\n",
    "My strategy for trying to understand this question is to calculate sentiment scores from posts in the r/depression subreddit. I thought that the best way to tease out any releationship would be to analyze people who are at the more extreme ends of the mood spectrum. Each post on reddit is then time stamped, so I will be able to perform a statistical analysis on the sentiment scores throughout the day."
   ]
  },
  {
   "cell_type": "markdown",
   "id": "fb6b43be-4799-42cd-8555-4b3742bceacd",
   "metadata": {},
   "source": [
    "### Literature\n",
    "\n",
    "Sentiment analysis is an NLP (Natural Language Processing) technique used generally to determine if human speach is positive, negative, or neutral. Oftentimes sentiment analysis wil use a machine learning trained model to determine the sentiment. Many of the more inpactful papers in this field began to appear in the early 2000's, but work was underway in this topic as early as the 1950's. One of the most impactful papers with 12,000 citations is [\"opinion mining and sentiment analysis\"](https://www.cs.cornell.edu/home/llee/omsa/omsa.pdf), 2008 (Bo Pang, Lillian Lee) where they describe many ML and tradititional classification technique for sentiment analysis. "
   ]
  },
  {
   "cell_type": "markdown",
   "id": "265d43ad-9d39-4bf3-99e1-ffad7b763624",
   "metadata": {},
   "source": [
    "## Gathering Data\n",
    "\n",
    "To gather the data I will be using in this analysis I used the Reddit API. \n",
    "\n",
    "NOTE: All keys and identifiers have been replaced with \"xxx\""
   ]
  },
  {
   "cell_type": "markdown",
   "id": "7940c06f-dcfb-4075-bce1-e61fc84dd781",
   "metadata": {},
   "source": [
    "### Authentication for Redddit API"
   ]
  },
  {
   "cell_type": "raw",
   "id": "b34baa94-7a18-4eca-bded-00aec93f6b17",
   "metadata": {},
   "source": [
    "# Code repurposed from James Briggs https://towardsdatascience.com/how-to-use-the-reddit-api-in-python-5e05ddfd1e5c\n",
    "import requests\n",
    "\n",
    "class RedditAuthentication:\n",
    "\n",
    "    \"\"\"\n",
    "    A class used to create the authentication to access the reddit API\n",
    "    \"\"\"\n",
    "\n",
    "    def __init__(self):\n",
    "        # keys for connecting to reddit API <CLIENT_ID> <SECRET_TOKEN>\n",
    "        auth = requests.auth.HTTPBasicAuth('xxxxx', 'xxxxxx')\n",
    "        data = {'grant_type': 'password',\n",
    "                'username': 'xxxxx',\n",
    "                'password': 'xxxxx'}\n",
    "\n",
    "        headers = {'User-Agent': 'GatherData/0.0.1'}\n",
    "\n",
    "        #send our request for an OAuth token\n",
    "        res = requests.post('https://www.reddit.com/api/v1/access_token',\n",
    "                    auth=auth, data=data, headers=headers)\n",
    "\n",
    "        TOKEN = res.json()['access_token']\n",
    "        self.headers = {**headers, **{'Authorization': f\"bearer {TOKEN}\"}}\n",
    "        requests.get('https://oauth.reddit.com/api/v1/me', headers=headers)\n"
   ]
  },
  {
   "cell_type": "markdown",
   "id": "207a4e25-82f4-487d-87ab-869d1483ca6f",
   "metadata": {},
   "source": [
    "### Data gathering from reddit api, saving as a data table"
   ]
  },
  {
   "cell_type": "raw",
   "id": "eddb5475-1a33-418b-9478-868dfa4cbd5f",
   "metadata": {},
   "source": [
    "import RedditAuthentication\n",
    "import requests\n",
    "import pandas as pd\n",
    "\n",
    "\"\"\"\n",
    "Turns the reponse from the Reddit API into a pandas dataframe\n",
    "\n",
    "Parameters\n",
    "----------\n",
    "res : reponse from a GET request to the reddit API\n",
    "\"\"\"\n",
    "def redditResponse(res):\n",
    "    data = pd.DataFrame()\n",
    "     # adds all 100 posts to a dataframe\n",
    "    for post in res.json()['data']['children']:\n",
    "        data = data.append(\n",
    "            {\n",
    "                'title':post['data']['title'], \n",
    "                'selftext': post['data']['selftext'],\n",
    "                'created_utc' : post['data']['created_utc'],\n",
    "                'num_comments': post['data']['num_comments'],\n",
    "                'upvote_ratio': post['data']['upvote_ratio'],\n",
    "                'ups': post['data']['ups'],\n",
    "                'downs': post['data']['downs'],\n",
    "                'id': post['data']['id'],\n",
    "                'kind': post['kind']\n",
    "            },\n",
    "            ignore_index=True\n",
    "        )\n",
    "\n",
    "    return data\n",
    "\n",
    "def main():\n",
    "\n",
    "    data = pd.DataFrame()\n",
    "    params = {'limit': 100}\n",
    "    redditConnection = RedditAuthentication.RedditAuthentication()\n",
    "\n",
    "    # requests 100 posts many times\n",
    "    for i in range(10):\n",
    "        res = requests.get(\"https://oauth.reddit.com/r/depression/new\",\n",
    "                   headers=redditConnection.headers,\n",
    "                   params=params)\n",
    "\n",
    "        new_df = redditResponse(res)\n",
    "        row = new_df.iloc[len(new_df)-1]\n",
    "        fullname = row['kind'] + '_' + row['id']\n",
    "        params['after'] = fullname\n",
    "        data = data.append(new_df, ignore_index=True)\n",
    "\n",
    "    # Saves data frame to csv file\n",
    "    data.to_csv(\"RedditData.csv\")\n",
    "\n",
    "\n",
    "if __name__ == '__main__':\n",
    "    main()"
   ]
  },
  {
   "cell_type": "code",
   "execution_count": null,
   "id": "d035eb27-d0c9-4823-869f-4fb61b30a355",
   "metadata": {},
   "outputs": [],
   "source": []
  }
 ],
 "metadata": {
  "kernelspec": {
   "display_name": "Python 3 (ipykernel)",
   "language": "python",
   "name": "python3"
  },
  "language_info": {
   "codemirror_mode": {
    "name": "ipython",
    "version": 3
   },
   "file_extension": ".py",
   "mimetype": "text/x-python",
   "name": "python",
   "nbconvert_exporter": "python",
   "pygments_lexer": "ipython3",
   "version": "3.8.10"
  }
 },
 "nbformat": 4,
 "nbformat_minor": 5
}
